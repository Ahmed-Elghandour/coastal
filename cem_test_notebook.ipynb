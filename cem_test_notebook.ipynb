{
 "cells": [
  {
   "cell_type": "markdown",
   "metadata": {},
   "source": [
    "# CEM Workflow Notebook\n",
    "### Coastal Group, ESPIn 2021 Group Project\n",
    "Created by Benton Franklin, Conner Lester, & Megan Gillen; 6-14-21\n",
    "<br>Last Updated: 6-16-21"
   ]
  },
  {
   "cell_type": "markdown",
   "metadata": {},
   "source": [
    "### Relevant References:\n",
    "Ashton A., Murray B.A., Arnault O. [Formation of Coastline Features by Large-Scale Instabilities Induced by High-Angle Waves.](https://www.nature.com/articles/35104541) Nature Magazine. Volume 414. 15 November 2001. <br>\n",
    "Ashton A.D., Murray A.B. [High-Angle Wave Instability and Emergent Shoreline Shapes: 1. Wave Climate Analysis and Comparisons to Nature.](https://agupubs.onlinelibrary.wiley.com/doi/full/10.1029/2005JF000422) Journal of Geophysical Research. Volume 111. 15 December 2006. <br>\n",
    "Ashton A.D., Murray A.B. [High-Angle Wave Instability and Emergent Shoreline Shapes: 2. Wave Climate Analysis and Comparisons to Nature.](https://agupubs.onlinelibrary.wiley.com/doi/full/10.1029/2005JF000423) Journal of Geophysical Research. Volume 111. 15 December 2006."
   ]
  },
  {
   "cell_type": "markdown",
   "metadata": {},
   "source": [
    "### 1. Import Relevant Libraries"
   ]
  },
  {
   "cell_type": "code",
   "execution_count": 1,
   "metadata": {},
   "outputs": [],
   "source": [
    "import numpy as np\n",
    "import matplotlib.pyplot as plt\n",
    "from pymt.models import Cem, Waves\n",
    "from IPython.display import clear_output"
   ]
  },
  {
   "cell_type": "markdown",
   "metadata": {},
   "source": [
    "### 2. Initialize Models from PyMT\n",
    "We are using the [Coastal Evolution Model (CEM)](https://csdms.colorado.edu/wiki/Model_help:CEM) and the [WAVES](https://csdms.colorado.edu/wiki/Model_help:Waves) models. The CEM simulates morphodynamic evolution of coastlines under varying wave climates. WAVES is the model that calculates the input wave energetics used in CEM as a function of wave period (T), deep water wave height (H<sub>0</sub>), and wave angle criteria. Run the help() commands on each function and read through their documentation."
   ]
  },
  {
   "cell_type": "code",
   "execution_count": 2,
   "metadata": {},
   "outputs": [],
   "source": [
    "cem = Cem()\n",
    "waves = Waves()"
   ]
  },
  {
   "cell_type": "code",
   "execution_count": null,
   "metadata": {},
   "outputs": [],
   "source": [
    "help(cem)"
   ]
  },
  {
   "cell_type": "code",
   "execution_count": null,
   "metadata": {},
   "outputs": [],
   "source": [
    "help(waves)"
   ]
  },
  {
   "cell_type": "markdown",
   "metadata": {},
   "source": [
    "Let's look at what variables go into and come out of each model. We'll first look at the input variables, then the output variables."
   ]
  },
  {
   "cell_type": "code",
   "execution_count": null,
   "metadata": {
    "scrolled": true
   },
   "outputs": [],
   "source": [
    "waves.input_var_names"
   ]
  },
  {
   "cell_type": "markdown",
   "metadata": {},
   "source": [
    "### WAVES Model Input Parameters\n",
    "- `sea_surface_water_wave__height` --> Deep water wave height (H<sub>0</sub>)\n",
    "- `sea_surface_water_wave__period` --> Wave period (T)\n",
    "- `sea_shoreline_wave~incoming~deepwater__ashton_et_al_approach_angle_highness_parameter` --> Proportion of high angle waves (U)\n",
    "> \"The variable U controls the general directional spread of the approaching waves, here split into whether waves approach from angles great than or less than the one which maximized alongshore sediment transport (approximately 45 degrees)...U varies between 0-1, controls the fraction of high-angle waves, where a value of less than 0.5 indicates wave energy predominately approaching from a low angle and a designation greater than 0.5 indicates a predominance of high-angle (unstable waves).\"\n",
    "> \"This variable is probably the most important control on the behavior of coupled CEM-WAVES simulations using this simplified wave climate scheme. If CEM is being employed to simulate the self-organization of a coast, values of U larger than 0.5 should be used. For scenarios involving delta evolution, values less than 0.5 tend to be more reasonable (unless a local wave climate has that character). There is no specific method for deriving these terms (U and A) from natural wave climate conditions. Either A and U can be toggled to emulate a natural wave or other methods can be employed (not yet functional) where a natural wave climate can be enetered into the model.\" \n",
    "- `sea_shoreline_wave~incoming~deepwater__ashton_et_al_approach_angle_asymmetry_parameter` --> Asymmetry of wave direction (A)\n",
    "> \"The variable A controls the directional distribution of waves, representing the fraction of waves approaching from the left or right, from the perspective of a person looking out to sea. It is designated to be a value between 0 and 1. A designation of greater than 0.5 indicates that the majority of wave energy is approaching from the left where a designation of 1.0 indicates all wave energy approaches from the left. A designation of 0.5 indicates wave energy approach is evenly distributed between the left and right. A designation of less than 0.5 indicates the majority of wave energy is approaching from the right where a designation of 0 indicates all wave energy approaches from the right.\"\n",
    "\n",
    "[WAVES Documentation](https://csdms.colorado.edu/wiki/Model_help:Waves)"
   ]
  },
  {
   "cell_type": "code",
   "execution_count": null,
   "metadata": {
    "scrolled": true
   },
   "outputs": [],
   "source": [
    "waves.output_var_names"
   ]
  },
  {
   "cell_type": "markdown",
   "metadata": {},
   "source": [
    "### WAVES Model Output Parameters\n",
    "- `sea_surface_water_wave__min_of_increment_of_azimuth_angle_of_opposite_of_phase_velocity` --> \n",
    "- `sea_surface_water_wave__azimuth_angle_of_opposite_of_phase_velocity` --> Wave refraction angle ($\\alpha$)\n",
    "- `sea_surface_water_wave__mean_of_increment_of_azimuth_angle_of_opposite_of_phase_velocity` --> \n",
    "- `sea_surface_water_wave__max_of_increment_of_azimuth_angle_of_opposite_of_phase_velocity` --> \n",
    "- `sea_surface_water_wave__height` --> Wave period (T)\n",
    "- `sea_surface_water_wave__period` --> Deep water wave height (H<sub>0</sub>)"
   ]
  },
  {
   "cell_type": "code",
   "execution_count": null,
   "metadata": {},
   "outputs": [],
   "source": [
    "cem.input_var_names"
   ]
  },
  {
   "cell_type": "code",
   "execution_count": null,
   "metadata": {},
   "outputs": [],
   "source": [
    "cem.output_var_names"
   ]
  },
  {
   "cell_type": "markdown",
   "metadata": {},
   "source": [
    "Below we reassign the long variable names to simple characters. Saves us typing in the future! See above for documentation on what each variable represents."
   ]
  },
  {
   "cell_type": "code",
   "execution_count": 3,
   "metadata": {},
   "outputs": [],
   "source": [
    "H0 = 'sea_surface_water_wave__height'\n",
    "T = 'sea_surface_water_wave__period'\n",
    "U = 'sea_shoreline_wave~incoming~deepwater__ashton_et_al_approach_angle_highness_parameter'\n",
    "A = 'sea_shoreline_wave~incoming~deepwater__ashton_et_al_approach_angle_asymmetry_parameter'\n",
    "alpha = 'sea_surface_water_wave__azimuth_angle_of_opposite_of_phase_velocity'\n",
    "Qs = 'land_surface_water_sediment~bedload__mass_flow_rate'\n",
    "Z = 'sea_water__depth'\n",
    "dt = 'model__time_step'"
   ]
  },
  {
   "cell_type": "markdown",
   "metadata": {},
   "source": [
    "The **plot_coast** function helps make our plots look nicer based on our created grid criteria. We will be using this throughout the notebook to visualize our changing coastlines."
   ]
  },
  {
   "cell_type": "code",
   "execution_count": 4,
   "metadata": {},
   "outputs": [],
   "source": [
    "def plot_coast(z):\n",
    "    fig,ax = plt.subplots(figsize=(12,5))\n",
    "    im = ax.imshow(z, origin='lower', cmap='viridis_r')\n",
    "    cb = fig.colorbar(im,ax=ax)\n",
    "    cb.ax.set_ylabel('Water Depth (m)',fontsize=20,rotation=-90, labelpad=30)\n",
    "    cb.ax.tick_params('y',labelsize=15)\n",
    "    ax.set_xlabel('Along shore (km)',fontsize=20)\n",
    "    ax.set_ylabel('Cross shore (km)',fontsize=20)\n",
    "    ax.tick_params('both',labelsize=15)"
   ]
  },
  {
   "cell_type": "code",
   "execution_count": 5,
   "metadata": {},
   "outputs": [],
   "source": [
    "def update_animate(time,z,update_period=100):\n",
    "        if time%update_period == 0:\n",
    "            clear_output(wait=True)\n",
    "            cem.get_value(Z, out=z)\n",
    "            plot_coast(z)\n",
    "            plt.title('Time Step: '+ str(time),fontsize=20)\n",
    "            plt.show()"
   ]
  },
  {
   "cell_type": "code",
   "execution_count": 6,
   "metadata": {},
   "outputs": [],
   "source": [
    "def run_model_loop(Number_Iterations, z ,animate=True):\n",
    "    \n",
    "    for time in range(Number_Iterations):\n",
    "        waves.update()\n",
    "        angle = waves.get_value(alpha)\n",
    "        cem.set_value(alpha, angle)\n",
    "        #H = waves.get_value(H0)\n",
    "        #cem.set_value(H0,H)\n",
    "        #period = waves.get_value(T)\n",
    "        #cem.set_value(T,period)\n",
    "        cem.set_value(Qs, qs)\n",
    "        cem.update()\n",
    "        if animate:\n",
    "            update_animate(time,z)\n",
    "\n",
    "        else:\n",
    "            clear_output(wait=True)\n",
    "            print('Time Step: ',time, ' days')"
   ]
  },
  {
   "cell_type": "code",
   "execution_count": 7,
   "metadata": {},
   "outputs": [],
   "source": [
    "args = cem.setup(number_of_rows=100, number_of_cols=200, grid_spacing=200.)\n",
    "\n",
    "waves.initialize(*waves.setup())\n",
    "cem.initialize(*args)"
   ]
  },
  {
   "cell_type": "code",
   "execution_count": 8,
   "metadata": {},
   "outputs": [],
   "source": [
    "grid_id = cem.var_grid(Z)\n",
    "spacing = cem.grid_spacing(grid_id)\n",
    "shape = cem.grid_shape(grid_id)"
   ]
  },
  {
   "cell_type": "code",
   "execution_count": 9,
   "metadata": {},
   "outputs": [],
   "source": [
    "waves.set_value(H0, 1.5);\n",
    "waves.set_value(T, 7);\n",
    "waves.set_value(U, .8);\n",
    "waves.set_value(A, .3);"
   ]
  },
  {
   "cell_type": "code",
   "execution_count": 10,
   "metadata": {},
   "outputs": [],
   "source": [
    "z = np.empty(shape);\n",
    "cem.get_value(Z, out=z);\n",
    "qs = np.zeros_like(z);\n",
    "qs[0, 50] = 50;\n",
    "qs[0, 100] = 200;\n",
    "qs[0, 150] = 1000;\n",
    "\n",
    "model_run = 365*20"
   ]
  },
  {
   "cell_type": "code",
   "execution_count": 11,
   "metadata": {},
   "outputs": [
    {
     "name": "stdout",
     "output_type": "stream",
     "text": [
      "Time Step:  9999\n"
     ]
    }
   ],
   "source": [
    "run_model_loop(10000,z,animate=False)"
   ]
  },
  {
   "cell_type": "code",
   "execution_count": 12,
   "metadata": {},
   "outputs": [
    {
     "data": {
      "image/png": "[encoded data removed]",
      "text/plain": [
       "<Figure size 864x360 with 2 Axes>"
      ]
     },
     "metadata": {
      "needs_background": "light"
     },
     "output_type": "display_data"
    }
   ],
   "source": [
    "z_end = np.empty(shape)\n",
    "cem.get_value(Z, out=z_end)\n",
    "plot_coast(z_end)"
   ]
  },
  {
   "cell_type": "code",
   "execution_count": null,
   "metadata": {},
   "outputs": [],
   "source": []
  }
 ],
 "metadata": {
  "kernelspec": {
   "display_name": "Python 3",
   "language": "python",
   "name": "python3"
  },
  "language_info": {
   "codemirror_mode": {
    "name": "ipython",
    "version": 3
   },
   "file_extension": ".py",
   "mimetype": "text/x-python",
   "name": "python",
   "nbconvert_exporter": "python",
   "pygments_lexer": "ipython3",
   "version": "3.9.4"
  }
 },
 "nbformat": 4,
 "nbformat_minor": 4
}
