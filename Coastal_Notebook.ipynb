{
 "cells": [
  {
   "cell_type": "markdown",
   "id": "058fdb9e-a058-49a3-9ad4-f4fd3d161616",
   "metadata": {},
   "source": [
    "## Coastal "
   ]
  },
  {
   "cell_type": "code",
   "execution_count": null,
   "id": "ed5b0ba1-acd7-44ff-a2a8-ef72e2906f41",
   "metadata": {},
   "outputs": [],
   "source": []
  }
 ],
 "metadata": {
  "kernelspec": {
   "display_name": "Python 3",
   "language": "python",
   "name": "python3"
  },
  "language_info": {
   "codemirror_mode": {
    "name": "ipython",
    "version": 3
   },
   "file_extension": ".py",
   "mimetype": "text/x-python",
   "name": "python",
   "nbconvert_exporter": "python",
   "pygments_lexer": "ipython3",
   "version": "3.8.8"
  }
 },
 "nbformat": 4,
 "nbformat_minor": 5
}
