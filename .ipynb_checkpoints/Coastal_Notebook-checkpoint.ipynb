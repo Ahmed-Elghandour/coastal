{
 "cells": [
  {
   "cell_type": "markdown",
   "id": "058fdb9e-a058-49a3-9ad4-f4fd3d161616",
   "metadata": {},
   "source": [
    "# COASTSAT & CEM"
   ]
  },
  {
   "cell_type": "code",
   "execution_count": 1,
   "id": "847b22cb",
   "metadata": {},
   "outputs": [],
   "source": [
    "import matplotlib.pyplot as plt\n",
    "from matplotlib import path\n",
    "%matplotlib inline\n",
    "import numpy as np\n",
    "import pandas as pd\n",
    "from scipy import stats\n",
    "\n",
    "import buoypy as bp\n",
    "from data_prep_fun import shorelinetogrid"
   ]
  },
  {
   "cell_type": "markdown",
   "id": "8be22ac1",
   "metadata": {},
   "source": [
    "## Extract Wave Data"
   ]
  },
  {
   "cell_type": "markdown",
   "id": "b97161f1",
   "metadata": {},
   "source": [
    "This section will extract wave data from an NDBC buoy and prepare it for input into the CEM. The user must provide the buoy identifier. "
   ]
  },
  {
   "cell_type": "code",
   "execution_count": 2,
   "id": "1036c2cf",
   "metadata": {
    "scrolled": true
   },
   "outputs": [
    {
     "name": "stdout",
     "output_type": "stream",
     "text": [
      "Appending : http://www.ndbc.noaa.gov/view_text_file.php?filename=45167h2014.txt.gz&dir=data/historical/stdmet/\n",
      "Appending : http://www.ndbc.noaa.gov/view_text_file.php?filename=45167h2015.txt.gz&dir=data/historical/stdmet/\n",
      "Appending : http://www.ndbc.noaa.gov/view_text_file.php?filename=45167h2016.txt.gz&dir=data/historical/stdmet/\n",
      "Appending : http://www.ndbc.noaa.gov/view_text_file.php?filename=45167h2017.txt.gz&dir=data/historical/stdmet/\n",
      "Appending : http://www.ndbc.noaa.gov/view_text_file.php?filename=45167h2018.txt.gz&dir=data/historical/stdmet/\n",
      "Appending : http://www.ndbc.noaa.gov/view_text_file.php?filename=45167h2019.txt.gz&dir=data/historical/stdmet/\n",
      "Appending : http://www.ndbc.noaa.gov/view_text_file.php?filename=45167h2020.txt.gz&dir=data/historical/stdmet/\n"
     ]
    }
   ],
   "source": [
    "# user input from NDBC buoy (make sure buoy has wave height available)\n",
    "station = 45167\n",
    "year = np.NAN\n",
    "year_range = (2014,2020)\n",
    "\n",
    "H = bp.historic_data(station,year,year_range)\n",
    "X = H.get_all_stand_meteo()"
   ]
  },
  {
   "cell_type": "code",
   "execution_count": 3,
   "id": "cc870fb2",
   "metadata": {},
   "outputs": [
    {
     "data": {
      "text/html": [
       "<div>\n",
       "<style scoped>\n",
       "    .dataframe tbody tr th:only-of-type {\n",
       "        vertical-align: middle;\n",
       "    }\n",
       "\n",
       "    .dataframe tbody tr th {\n",
       "        vertical-align: top;\n",
       "    }\n",
       "\n",
       "    .dataframe thead th {\n",
       "        text-align: right;\n",
       "    }\n",
       "</style>\n",
       "<table border=\"1\" class=\"dataframe\">\n",
       "  <thead>\n",
       "    <tr style=\"text-align: right;\">\n",
       "      <th></th>\n",
       "      <th>WDIR</th>\n",
       "      <th>WSPD</th>\n",
       "      <th>GST</th>\n",
       "      <th>WVHT</th>\n",
       "      <th>DPD</th>\n",
       "      <th>APD</th>\n",
       "      <th>MWD</th>\n",
       "      <th>PRES</th>\n",
       "      <th>ATMP</th>\n",
       "      <th>WTMP</th>\n",
       "      <th>DEWP</th>\n",
       "      <th>VIS</th>\n",
       "      <th>TIDE</th>\n",
       "    </tr>\n",
       "  </thead>\n",
       "  <tbody>\n",
       "    <tr>\n",
       "      <th>2014-05-14 18:40:00</th>\n",
       "      <td>325.0</td>\n",
       "      <td>2.7</td>\n",
       "      <td>NaN</td>\n",
       "      <td>0.10</td>\n",
       "      <td>3.0</td>\n",
       "      <td>NaN</td>\n",
       "      <td>266.0</td>\n",
       "      <td>1017.5</td>\n",
       "      <td>11.7</td>\n",
       "      <td>11.6</td>\n",
       "      <td>NaN</td>\n",
       "      <td>NaN</td>\n",
       "      <td>NaN</td>\n",
       "    </tr>\n",
       "    <tr>\n",
       "      <th>2014-05-16 17:40:00</th>\n",
       "      <td>348.0</td>\n",
       "      <td>6.7</td>\n",
       "      <td>NaN</td>\n",
       "      <td>0.60</td>\n",
       "      <td>4.0</td>\n",
       "      <td>NaN</td>\n",
       "      <td>282.0</td>\n",
       "      <td>1013.5</td>\n",
       "      <td>6.0</td>\n",
       "      <td>11.2</td>\n",
       "      <td>NaN</td>\n",
       "      <td>NaN</td>\n",
       "      <td>NaN</td>\n",
       "    </tr>\n",
       "    <tr>\n",
       "      <th>2014-05-16 18:00:00</th>\n",
       "      <td>355.0</td>\n",
       "      <td>6.9</td>\n",
       "      <td>NaN</td>\n",
       "      <td>0.54</td>\n",
       "      <td>4.0</td>\n",
       "      <td>NaN</td>\n",
       "      <td>280.0</td>\n",
       "      <td>1013.4</td>\n",
       "      <td>6.1</td>\n",
       "      <td>11.2</td>\n",
       "      <td>NaN</td>\n",
       "      <td>NaN</td>\n",
       "      <td>NaN</td>\n",
       "    </tr>\n",
       "  </tbody>\n",
       "</table>\n",
       "</div>"
      ],
      "text/plain": [
       "                      WDIR  WSPD  GST  WVHT  DPD  APD    MWD    PRES  ATMP  \\\n",
       "2014-05-14 18:40:00  325.0   2.7  NaN  0.10  3.0  NaN  266.0  1017.5  11.7   \n",
       "2014-05-16 17:40:00  348.0   6.7  NaN  0.60  4.0  NaN  282.0  1013.5   6.0   \n",
       "2014-05-16 18:00:00  355.0   6.9  NaN  0.54  4.0  NaN  280.0  1013.4   6.1   \n",
       "\n",
       "                     WTMP  DEWP  VIS  TIDE  \n",
       "2014-05-14 18:40:00  11.6   NaN  NaN   NaN  \n",
       "2014-05-16 17:40:00  11.2   NaN  NaN   NaN  \n",
       "2014-05-16 18:00:00  11.2   NaN  NaN   NaN  "
      ]
     },
     "execution_count": 3,
     "metadata": {},
     "output_type": "execute_result"
    }
   ],
   "source": [
    "# get rid of missing data\n",
    "X.mask((X==99.0) | (X==9999.0), inplace=True)\n",
    "X.head(3) #preview first 3 lines of table"
   ]
  },
  {
   "cell_type": "code",
   "execution_count": 4,
   "id": "c6d2d570",
   "metadata": {},
   "outputs": [],
   "source": [
    "# plot relevant data to check it looks ok\n",
    "plotdata = False\n",
    "if plotdata == True:\n",
    "    fig,ax = plt.subplots(2,sharex=True);\n",
    "    X.WVHT.plot(ax=ax[0]);\n",
    "    ax[0].set_ylabel('Wave Height (m)',fontsize=12);\n",
    "    X.DPD.plot(ax=ax[1]);\n",
    "    ax[1].set_ylabel('Dominant Period (sec)',fontsize=12);\n",
    "    ax[1].set_xlabel('');\n"
   ]
  },
  {
   "cell_type": "code",
   "execution_count": 8,
   "id": "a101dbcd",
   "metadata": {},
   "outputs": [
    {
     "name": "stdout",
     "output_type": "stream",
     "text": [
      "0.4855724949016968 3.1576545790785557 [214.]\n"
     ]
    }
   ],
   "source": [
    "# prep wave data for CEM\n",
    "Hs = np.mean(X.WVHT)\n",
    "Tp = np.mean(X.DPD)\n",
    "[Dir,count] = stats.mode(X.WDIR) # is this how we want to do this for dir? find peak instea?\n",
    "\n",
    "print(Hs, Tp, Dir)"
   ]
  },
  {
   "cell_type": "markdown",
   "id": "3bb28a3f",
   "metadata": {},
   "source": [
    "## Convert CoastSat shoreline to grid for CEM"
   ]
  },
  {
   "cell_type": "code",
   "execution_count": 2,
   "id": "a6ef62c4",
   "metadata": {},
   "outputs": [],
   "source": [
    "# dummy shoreline that will be replaced by CoastSat shoreline\n",
    "xy = np.loadtxt('Erie_spit_ESPIn.xy')\n",
    "# shoreline\n",
    "x=xy[:,0]\n",
    "y=xy[:,1]\n",
    "dx=100\n",
    "dy=100"
   ]
  },
  {
   "cell_type": "code",
   "execution_count": 3,
   "id": "7ce84489",
   "metadata": {},
   "outputs": [
    {
     "data": {
      "image/png": "[encoded data removed]",
      "text/plain": [
       "<Figure size 432x288 with 2 Axes>"
      ]
     },
     "metadata": {
      "needs_background": "light"
     },
     "output_type": "display_data"
    }
   ],
   "source": [
    "[xg,yg,elev] = shorelinetogrid(x,y,dx,dy,plotdata=True)"
   ]
  },
  {
   "cell_type": "code",
   "execution_count": 15,
   "id": "9e245e1a",
   "metadata": {},
   "outputs": [],
   "source": []
  }
 ],
 "metadata": {
  "kernelspec": {
   "display_name": "Python 3",
   "language": "python",
   "name": "python3"
  },
  "language_info": {
   "codemirror_mode": {
    "name": "ipython",
    "version": 3
   },
   "file_extension": ".py",
   "mimetype": "text/x-python",
   "name": "python",
   "nbconvert_exporter": "python",
   "pygments_lexer": "ipython3",
   "version": "3.9.4"
  }
 },
 "nbformat": 4,
 "nbformat_minor": 5
}
