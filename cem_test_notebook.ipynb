{
 "cells": [
  {
   "cell_type": "markdown",
   "metadata": {},
   "source": [
    "# CEM\n",
    "### Coastal Group, ESPIn 2021 Group Project\n",
    "Created by Benton Franklin, Conner Lester, & Megan Gillen; 6-14-21\n",
    "<br>Last Updated: 6-16-21"
   ]
  },
  {
   "cell_type": "markdown",
   "metadata": {},
   "source": [
    "### Relevant References:\n",
    "Ashton A., Murray B.A., Arnault O. [Formation of Coastline Features by Large-Scale Instabilities Induced by High-Angle Waves.](https://www.nature.com/articles/35104541) Nature Magazine. Volume 414. 15 November 2001. <br>\n",
    "Ashton A.D., Murray A.B. [High-Angle Wave Instability and Emergent Shoreline Shapes: 1. Wave Climate Analysis and Comparisons to Nature.](https://agupubs.onlinelibrary.wiley.com/doi/full/10.1029/2005JF000422) Journal of Geophysical Research. Volume 111. 15 December 2006. <br>\n",
    "Ashton A.D., Murray A.B. [High-Angle Wave Instability and Emergent Shoreline Shapes: 2. Wave Climate Analysis and Comparisons to Nature.](https://agupubs.onlinelibrary.wiley.com/doi/full/10.1029/2005JF000423) Journal of Geophysical Research. Volume 111. 15 December 2006."
   ]
  },
  {
   "cell_type": "markdown",
   "metadata": {},
   "source": [
    "### 1. Import Relevant Libraries\n",
    "\n",
    "We will be using some default Python libraries, as well as importing some functions we wrote ourselves!"
   ]
  },
  {
   "cell_type": "code",
   "execution_count": 1,
   "metadata": {},
   "outputs": [],
   "source": [
    "import numpy as np\n",
    "import matplotlib.pyplot as plt\n",
    "from matplotlib import path\n",
    "%matplotlib inline\n",
    "import pandas as pd\n",
    "from scipy import stats\n",
    "from IPython.display import clear_output\n",
    "\n",
    "from pymt.models import Cem, Waves\n",
    "import buoypy as bp\n",
    "import data_prep_fun as dpf\n",
    "import runmodels_functions as fun"
   ]
  },
  {
   "cell_type": "markdown",
   "metadata": {},
   "source": [
    "### 2. Load Shoreline Data from CoastSAT & NDBC Buoy Wave Data\n",
    "\n",
    "These workflows are derived from the \"Extract Wave Data\" & \"Convert CoastSat shoreline to grid for CEM\" sections in the CoastSat & Wave Data notebook. Please see that file for more information on these processes.\n",
    "\n",
    "First, let's get our wave data:"
   ]
  },
  {
   "cell_type": "code",
   "execution_count": 6,
   "metadata": {},
   "outputs": [
    {
     "name": "stdout",
     "output_type": "stream",
     "text": [
      "Appending data from: http://www.ndbc.noaa.gov/view_text_file.php?filename=45167h2014.txt.gz&dir=data/historical/stdmet/\n",
      "Appending data from: http://www.ndbc.noaa.gov/view_text_file.php?filename=45167h2015.txt.gz&dir=data/historical/stdmet/\n",
      "Appending data from: http://www.ndbc.noaa.gov/view_text_file.php?filename=45167h2016.txt.gz&dir=data/historical/stdmet/\n",
      "Appending data from: http://www.ndbc.noaa.gov/view_text_file.php?filename=45167h2017.txt.gz&dir=data/historical/stdmet/\n",
      "Appending data from: http://www.ndbc.noaa.gov/view_text_file.php?filename=45167h2018.txt.gz&dir=data/historical/stdmet/\n",
      "Appending data from: http://www.ndbc.noaa.gov/view_text_file.php?filename=45167h2019.txt.gz&dir=data/historical/stdmet/\n",
      "Appending data from: http://www.ndbc.noaa.gov/view_text_file.php?filename=45167h2020.txt.gz&dir=data/historical/stdmet/\n",
      "\n",
      "\n",
      "0.485572494902 3.15765457908 [ 0.59444444]\n"
     ]
    }
   ],
   "source": [
    "# user input from NDBC buoy (make sure buoy has wave height available)\n",
    "station = 45167\n",
    "year = np.NAN\n",
    "year_range = (2014,2020)\n",
    "\n",
    "H = bp.historic_data(station,year,year_range)\n",
    "X = H.get_all_stand_meteo()\n",
    "\n",
    "# get rid of missing data\n",
    "X.mask((X==99.0) | (X==9999.0), inplace=True)\n",
    "\n",
    "# prep wave data for CEM\n",
    "Hs = np.mean(X.WVHT)\n",
    "Tp = np.mean(X.DPD)\n",
    "[Dir,count] = stats.mode(X.WDIR) # is this how we want to do this for dir? find peak instea?\n",
    "\n",
    "print('\\n')\n",
    "print(Hs, Tp, Dir)"
   ]
  },
  {
   "cell_type": "markdown",
   "metadata": {},
   "source": [
    "We will be using the significant wave height, wave period, and wave direction data from the NDBC buoy as inputs into the WAVES model. Now let's look at our shoreline:"
   ]
  },
  {
   "cell_type": "code",
   "execution_count": null,
   "metadata": {},
   "outputs": [],
   "source": [
    "xy = np.loadtxt('Erie_spit_ESPIn.xy')\n",
    "# shoreline\n",
    "x=xy[:,0]\n",
    "y=xy[:,1]\n",
    "dx=100\n",
    "dy=100\n",
    "[xg,yg,elev] = dpf.shorelinetogrid(x,y,dx,dy,plotdata=True)"
   ]
  },
  {
   "cell_type": "markdown",
   "metadata": {},
   "source": [
    "We have to adjust some aspects of the elevation data to get the correct orientation and make it run more smoothly within CEM."
   ]
  },
  {
   "cell_type": "code",
   "execution_count": null,
   "metadata": {},
   "outputs": [],
   "source": [
    "z_elev = (elev.T)\n",
    "z_elev[z_elev==-5] = -1"
   ]
  },
  {
   "cell_type": "markdown",
   "metadata": {},
   "source": [
    "Let's visualize this updated coastline data with the function **plot_coast**. This will confirm that we have effectively translated the spit into model space."
   ]
  },
  {
   "cell_type": "code",
   "execution_count": null,
   "metadata": {},
   "outputs": [],
   "source": [
    "fun.plot_coast(z_elev)"
   ]
  },
  {
   "cell_type": "markdown",
   "metadata": {},
   "source": [
    "Looks pretty similar! Now that we have processed the shoreline, we can initialize our models."
   ]
  },
  {
   "cell_type": "markdown",
   "metadata": {},
   "source": [
    "### 3. Model Setup\n",
    "We are using the [Coastal Evolution Model (CEM)](https://csdms.colorado.edu/wiki/Model_help:CEM) and the [WAVES](https://csdms.colorado.edu/wiki/Model_help:Waves) models. The CEM simulates morphodynamic evolution of coastlines under varying wave climates. WAVES is the model that calculates the input wave energetics used in CEM as a function of wave period (T), deep water wave height (H<sub>0</sub>), and wave angle criteria. Run the help() commands on each function and read through their documentation."
   ]
  },
  {
   "cell_type": "code",
   "execution_count": null,
   "metadata": {},
   "outputs": [],
   "source": [
    "cem = Cem()\n",
    "waves = Waves()"
   ]
  },
  {
   "cell_type": "code",
   "execution_count": null,
   "metadata": {},
   "outputs": [],
   "source": [
    "help(cem)"
   ]
  },
  {
   "cell_type": "code",
   "execution_count": null,
   "metadata": {},
   "outputs": [],
   "source": [
    "help(waves)"
   ]
  },
  {
   "cell_type": "markdown",
   "metadata": {},
   "source": [
    "Let's look at what variables go into and come out of each model. We'll first look at ***WAVES***:"
   ]
  },
  {
   "cell_type": "code",
   "execution_count": null,
   "metadata": {
    "scrolled": true
   },
   "outputs": [],
   "source": [
    "waves.input_var_names"
   ]
  },
  {
   "cell_type": "markdown",
   "metadata": {},
   "source": [
    "### WAVES Model Input Parameters\n",
    "- `sea_surface_water_wave__height` --> Deep water wave height (H<sub>0</sub>)\n",
    "- `sea_surface_water_wave__period` --> Wave period (T)\n",
    "- `sea_shoreline_wave~incoming~deepwater__ashton_et_al_approach_angle_highness_parameter` --> Proportion of high angle waves (U)\n",
    "> \"The variable U controls the general directional spread of the approaching waves, here split into whether waves approach from angles great than or less than the one which maximized alongshore sediment transport (approximately 45 degrees)...U varies between 0-1, controls the fraction of high-angle waves, where a value of less than 0.5 indicates wave energy predominately approaching from a low angle and a designation greater than 0.5 indicates a predominance of high-angle (unstable waves).\"\n",
    "> \"This variable is probably the most important control on the behavior of coupled CEM-WAVES simulations using this simplified wave climate scheme. If CEM is being employed to simulate the self-organization of a coast, values of U larger than 0.5 should be used. For scenarios involving delta evolution, values less than 0.5 tend to be more reasonable (unless a local wave climate has that character). There is no specific method for deriving these terms (U and A) from natural wave climate conditions. Either A and U can be toggled to emulate a natural wave or other methods can be employed (not yet functional) where a natural wave climate can be enetered into the model.\" \n",
    "- `sea_shoreline_wave~incoming~deepwater__ashton_et_al_approach_angle_asymmetry_parameter` --> Asymmetry of wave direction (A)\n",
    "> \"The variable A controls the directional distribution of waves, representing the fraction of waves approaching from the left or right, from the perspective of a person looking out to sea. It is designated to be a value between 0 and 1. A designation of greater than 0.5 indicates that the majority of wave energy is approaching from the left where a designation of 1.0 indicates all wave energy approaches from the left. A designation of 0.5 indicates wave energy approach is evenly distributed between the left and right. A designation of less than 0.5 indicates the majority of wave energy is approaching from the right where a designation of 0 indicates all wave energy approaches from the right.\"\n",
    "\n",
    "[WAVES Documentation](https://csdms.colorado.edu/wiki/Model_help:Waves)"
   ]
  },
  {
   "cell_type": "code",
   "execution_count": null,
   "metadata": {
    "scrolled": true
   },
   "outputs": [],
   "source": [
    "waves.output_var_names"
   ]
  },
  {
   "cell_type": "markdown",
   "metadata": {},
   "source": [
    "### WAVES Model Output Parameters\n",
    "- `sea_surface_water_wave__min_of_increment_of_azimuth_angle_of_opposite_of_phase_velocity` --> Min wave refraction angle ($\\alpha$)\n",
    "- `sea_surface_water_wave__azimuth_angle_of_opposite_of_phase_velocity` --> Wave refraction angle ($\\alpha$)\n",
    "- `sea_surface_water_wave__mean_of_increment_of_azimuth_angle_of_opposite_of_phase_velocity` --> Mean wave refraction angle ($\\alpha$)\n",
    "- `sea_surface_water_wave__max_of_increment_of_azimuth_angle_of_opposite_of_phase_velocity` --> Max wave refraction angle ($\\alpha$)\n",
    "- `sea_surface_water_wave__height` --> Wave period (T)\n",
    "- `sea_surface_water_wave__period` --> Deep water wave height (H<sub>0</sub>)\n",
    "\n",
    "[WAVES Documentation](https://csdms.colorado.edu/wiki/Model_help:Waves)"
   ]
  },
  {
   "cell_type": "markdown",
   "metadata": {},
   "source": [
    "Now, let's look at ***CEM***:"
   ]
  },
  {
   "cell_type": "code",
   "execution_count": null,
   "metadata": {},
   "outputs": [],
   "source": [
    "cem.input_var_names"
   ]
  },
  {
   "cell_type": "markdown",
   "metadata": {},
   "source": [
    "### CEM Input Parameters\n",
    "- `sea_surface_water_wave__azimuth_angle_of_opposite_of_phase_velocity` --> Wave refraction angle ($\\alpha$)\n",
    "- `land_surface_water_sediment~bedload__mass_flow_rate` --> Riverine sediment load (Q<sub>s</sub>)\n",
    "- `sea_surface_water_wave__period` --> Wave period (T)\n",
    "- `sea_surface_water_wave__height` --> Wave height (H)\n",
    "- `land_surface__elevation` --> Land elevation (L)\n",
    "- `model__time_step` --> Time step for model runs (dt)\n",
    "\n",
    "[CEM Documentation](https://csdms.colorado.edu/wiki/Model_help:CEM)"
   ]
  },
  {
   "cell_type": "code",
   "execution_count": null,
   "metadata": {},
   "outputs": [],
   "source": [
    "cem.output_var_names"
   ]
  },
  {
   "cell_type": "markdown",
   "metadata": {},
   "source": [
    "### CEM Output Parameters\n",
    "- `basin_outlet~coastal_center__x_coordinate` --> Riverine outlet longitude\n",
    "- `basin_outlet~coastal_water_sediment~bedload__mass_flow_rate` --> Coastal sediment load (Q<sub>s c</sub>)\n",
    "- `land_surface__elevation` --> Land elevation (L)\n",
    "- `sea_water__depth` --> Water depth (Z)\n",
    "- `basin_outlet~coastal_center__y_coordinate` --> Riverine outlet latitude\n",
    "- `model__time_step` --> Time step for model runs (dt)\n",
    "\n",
    "[CEM Documentation](https://csdms.colorado.edu/wiki/Model_help:CEM)"
   ]
  },
  {
   "cell_type": "markdown",
   "metadata": {},
   "source": [
    "Below we reassign the long variable names to simple characters. Saves us typing in the future! See above for documentation on what each variable represents."
   ]
  },
  {
   "cell_type": "code",
   "execution_count": null,
   "metadata": {},
   "outputs": [],
   "source": [
    "H0 = 'sea_surface_water_wave__height'\n",
    "T = 'sea_surface_water_wave__period'\n",
    "U = 'sea_shoreline_wave~incoming~deepwater__ashton_et_al_approach_angle_highness_parameter'\n",
    "A = 'sea_shoreline_wave~incoming~deepwater__ashton_et_al_approach_angle_asymmetry_parameter'\n",
    "alpha = 'sea_surface_water_wave__azimuth_angle_of_opposite_of_phase_velocity'\n",
    "Qs = 'land_surface_water_sediment~bedload__mass_flow_rate'\n",
    "Z = 'sea_water__depth'\n",
    "L = 'land_surface__elevation'\n",
    "dt = 'model__time_step'"
   ]
  },
  {
   "cell_type": "markdown",
   "metadata": {},
   "source": [
    "### 4. Initialize Models with Input Criteria\n",
    "Here we are creating a _dictionary_ to assign value to our various input parameters for both the CEM and WAVES models. Defining CEM's parameter values this way facilitates transparency and easy manipulation of the variables. This dictionary will then be passed into the **initialize_models** function which sets up our models.\n",
    "\n",
    "For our wave parameters, we are using the data from the \"Extract Wave Data\" section of the CoastSat notebook. Please see that file for more information on the data extraction.\n",
    "\n",
    "*To convert wave direction to the **A** parameter, we use the following formula:*\n",
    "\n",
    "$$\\frac{|Dir-270|}{180}$$\n",
    "\n",
    "*where **Dir** represents wave direction.*"
   ]
  },
  {
   "cell_type": "code",
   "execution_count": 9,
   "metadata": {},
   "outputs": [
    {
     "name": "stdout",
     "output_type": "stream",
     "text": [
      "0.3111111111111111\n"
     ]
    }
   ],
   "source": [
    "#convert wave direction to asymmetry term\n",
    "Ap = float(abs(Dir-270)/180)"
   ]
  },
  {
   "cell_type": "code",
   "execution_count": null,
   "metadata": {},
   "outputs": [],
   "source": [
    "params = {\n",
    "    \n",
    "    ## CEM \n",
    "    'grid_spacing'    : 200,\n",
    "    'shelf_slope'     : 0.001,\n",
    "    'shoreface_depth' : 10,\n",
    "    'shoreface_slope' : 0.01,\n",
    "    \n",
    "    ##WAVES\n",
    "    'sea_surface_water_wave__height' : Hs,\n",
    "    'sea_surface_water_wave__period' : Tp,\n",
    "    'sea_shoreline_wave~incoming~deepwater__ashton_et_al_approach_angle_highness_parameter': 0.8,\n",
    "    'sea_shoreline_wave~incoming~deepwater__ashton_et_al_approach_angle_asymmetry_parameter': Ap\n",
    "    \n",
    "}"
   ]
  },
  {
   "cell_type": "markdown",
   "metadata": {},
   "source": [
    "In the CEM, cells can either be water or land. Land cells will have a uniform height that is greater than the water depth. They will only be affected by the coastal processes of _alongshore sediment transport_ and _wave action. Inland cells will not be affected. Water cells will have a set bathymetry that will respond to sediment supply and wave action. The model calculates the bathymetry through the inner shelf slope (`shelf_slope`), depth at which the shoreface ends (`shoreface_depth`), and the shoreface slope (`shoreface_slope`)."
   ]
  },
  {
   "cell_type": "code",
   "execution_count": null,
   "metadata": {},
   "outputs": [],
   "source": [
    "fun.initialize_models(params,z_elev,cem,waves)"
   ]
  },
  {
   "cell_type": "markdown",
   "metadata": {},
   "source": [
    "Let's look at our input coastline again with the **plot_coast** function as our baseline."
   ]
  },
  {
   "cell_type": "code",
   "execution_count": null,
   "metadata": {},
   "outputs": [],
   "source": [
    "fun.plot_coast(z_elev)"
   ]
  },
  {
   "cell_type": "markdown",
   "metadata": {},
   "source": [
    "The `run_model_loop function` will run the CEM and can display an animation of the evolving shoreline. The first input expresses the model run time (in days). The function displays an animation by default but you can set `animate=False` to decrease model computation time."
   ]
  },
  {
   "cell_type": "code",
   "execution_count": null,
   "metadata": {},
   "outputs": [],
   "source": [
    "fun.run_model_loop(3000,z_elev,cem,waves)"
   ]
  },
  {
   "cell_type": "markdown",
   "metadata": {},
   "source": [
    "Congratulations! We just ran the CEM on a real coastline input. Let's compare our results to see how our models works with the CoastSAT data. Here's what the Lake Erie Spit looked like in 2020:\n",
    "\n",
    "<p style=\"text-align:center;\"><img src=\"Presque_Ilse_State_Park_9_10_2020.png\" alt=\"Presque Ilse State Park\" width=\"500\"/></p>\n",
    "\n",
    "And here is our CEM result:"
   ]
  },
  {
   "cell_type": "code",
   "execution_count": null,
   "metadata": {},
   "outputs": [],
   "source": []
  }
 ],
 "metadata": {
  "kernelspec": {
   "display_name": "Python 3",
   "language": "python",
   "name": "python3"
  },
  "language_info": {
   "codemirror_mode": {
    "name": "ipython",
    "version": 3
   },
   "file_extension": ".py",
   "mimetype": "text/x-python",
   "name": "python",
   "nbconvert_exporter": "python",
   "pygments_lexer": "ipython3",
   "version": "3.9.4"
  }
 },
 "nbformat": 4,
 "nbformat_minor": 4
}
